{
 "cells": [
  {
   "cell_type": "markdown",
   "source": [
    "# Projet 4"
   ],
   "metadata": {}
  },
  {
   "cell_type": "code",
   "execution_count": 8,
   "source": [
    "import requests\r\n",
    "from bs4 import BeautifulSoup"
   ],
   "outputs": [],
   "metadata": {}
  },
  {
   "cell_type": "markdown",
   "source": [
    "Ecrire une fonction `get_prices_from_url()` qui extrait des informations à partir des 2 pages ci-dessous.\n",
    "\n",
    "Exemple `URL_PAGE2` doit retourner :\n",
    "\n",
    "<pre>{'Personal': {'price': '$5', 'storage': '1GB', 'databases': 1},\n",
    "  'Small Business': {'price': '$25', 'storage': '10GB', 'databases': 5},\n",
    "  'Enterprise': {'price': '$45', 'storage': '100GB', 'databases': 25}}\n",
    "</pre>"
   ],
   "metadata": {}
  },
  {
   "cell_type": "code",
   "execution_count": 9,
   "source": [
    "URL_PAGE2 = \"https://kim.fspot.org/cours/page2.html\"\r\n",
    "URL_PAGE3 = \"https://kim.fspot.org/cours/page3.html\"\r\n",
    "\r\n",
    "def get_prices_from_url(url):\r\n",
    "    soup = BeautifulSoup(requests.get(url).content.decode(\"utf-8\"))\r\n",
    "    prices = {h2.text: {'databases':int(h2.find_next(\"ul\").find_all(\"li\")[4].text.split()[0]),\r\n",
    "                        'price':h2.find_next().text.split()[0],\r\n",
    "                        'storage':h2.find_next(\"ul\").find_all(\"li\")[3].text.split()[0],\r\n",
    "                        } \r\n",
    "                        for h2 in soup.find_all(\"h2\")}\r\n",
    "    return prices\r\n",
    "\r\n",
    "print(get_prices_from_url(URL_PAGE2))\r\n",
    "print(get_prices_from_url(URL_PAGE3))"
   ],
   "outputs": [
    {
     "output_type": "stream",
     "name": "stdout",
     "text": [
      "{'Personal': {'databases': 1, 'price': '$5', 'storage': '1GB'}, 'Small Business': {'databases': 5, 'price': '$25', 'storage': '10GB'}, 'Enterprise': {'databases': 25, 'price': '$45', 'storage': '100GB'}}\n",
      "{'Personal': {'databases': 1, 'price': '$5', 'storage': '1GB'}, 'Small Business': {'databases': 5, 'price': '$25', 'storage': '10GB'}, 'Enterprise': {'databases': 25, 'price': '$45', 'storage': '100GB'}, 'Privilege': {'databases': 100, 'price': '$99', 'storage': '1TB'}}\n"
     ]
    }
   ],
   "metadata": {}
  },
  {
   "cell_type": "markdown",
   "source": [
    "Ecrire une fonction qui extrait des informations sur une bière de beowulf.\r\n",
    "\r\n",
    "Exemple d'URL: https://www.beerwulf.com/fr-fr/p/bieres/melusine-bio.33 \r\n",
    "\r\n",
    "La fonction doit retourner :\r\n",
    "<pre>\r\n",
    "{'name': 'Mélusine Bio', 'note': 70, 'price': 38.99, 'volume': 33}\r\n",
    "</pre>"
   ],
   "metadata": {}
  },
  {
   "cell_type": "code",
   "execution_count": 10,
   "source": [
    "url = \"https://www.beerwulf.com/fr-fr/p/bieres/melusine-bio.33\"\r\n",
    "\r\n",
    "def extract_beer_infos(url):\r\n",
    "    soup = BeautifulSoup(requests.get(url).content.decode(\"utf-8\"))\r\n",
    "    infos = {\r\n",
    "        'name': soup.find(\"h1\").text,\r\n",
    "        'note': int(soup.find(\"div\", {\"class\":\"stars\"}).attrs[\"data-percent\"]),\r\n",
    "        'price': float(soup.find(\"span\", {\"class\":\"price\"}).text.split()[0].replace(\",\",\".\")),\r\n",
    "        'volume': int(soup.find(\"dd\", {\"class\":\"small-6 medium-9 columns js-beer-volume\"}).attrs[\"data-volume\"].split()[0])\r\n",
    "    }\r\n",
    "    return infos\r\n",
    "\r\n",
    "extract_beer_infos(url)"
   ],
   "outputs": [
    {
     "output_type": "execute_result",
     "data": {
      "text/plain": [
       "{'name': 'Mélusine Bio', 'note': 70, 'price': 38.99, 'volume': 33}"
      ]
     },
     "metadata": {},
     "execution_count": 10
    }
   ],
   "metadata": {}
  },
  {
   "cell_type": "markdown",
   "source": [
    "Cette URL retourne un JSON avec une liste de bières :"
   ],
   "metadata": {}
  },
  {
   "cell_type": "code",
   "execution_count": 11,
   "source": [
    "URL_BEERLIST_FRANCE = \"https://www.beerwulf.com/fr-FR/api/search/searchProducts?country=France&container=Bouteille\"\r\n",
    "\r\n",
    "#open(\"beerlist.json\",\"w\").write(requests.get(URL_BEERLIST_FRANCE).content.decode(\"utf-8\"))"
   ],
   "outputs": [],
   "metadata": {}
  },
  {
   "cell_type": "markdown",
   "source": [
    "Ecrire une fonction qui prend l'argument cet URL retourne les informations sur une liste de bière via l'API de beowulf.\n",
    "\n",
    "Cette fonction doit retourner la liste des informations obtenues par la fonction `extract_beer_infos()` définie ci-dessus.\n",
    "\n",
    "Chercher comment optimiser cette fonction en utilisant multiprocessing.Pool pour paralléliser les accès web.\n",
    "\n",
    "Exemple de retour :\n",
    "\n",
    "<pre>[{'name': 'Gallia East IPA', 'note': 80, 'price': 42.99, 'volume': 33},\n",
    "    {'name': 'La Lager Sans Gluten de Vézelay', 'note': 60, 'price': 38.99, 'volume': 25},\n",
    "    {'name': 'Brasserie De Sutter Brin de Folie', 'note': 70, 'price': 44.99, 'volume': 33},\n",
    "    {'name': 'La Cristal IPA du Mont Blanc', 'note': 70, 'price': 44.99, 'volume': 33},\n",
    "    {'name': 'Mélusine Bio', 'note': 70, 'price': 38.99, 'volume': 33},\n",
    "    {'name': 'La Parisienne Le Titi Parisien', 'note': 70, 'price': 38.99, 'volume': 33},\n",
    "    {'name': 'Gallia Session IPA', 'note': 70, 'price': 42.99, 'volume': 33},\n",
    "    {'name': 'Ninkasi Brut IPA', 'note': 70, 'price': 44.99, 'volume': 33},\n",
    "    {'name': 'Pietra', 'note': 60, 'price': 38.99, 'volume': 33},\n",
    "    {'name': 'Desperados', 'note': 60, 'price': 35.99, 'volume': 33},\n",
    "    {'name': 'Gallia West IPA', 'note': 70, 'price': 42.99, 'volume': 33}]\n",
    "</pre>"
   ],
   "metadata": {}
  },
  {
   "cell_type": "code",
   "execution_count": 12,
   "source": [
    "from multiprocessing import Pool\r\n",
    "import json\r\n",
    "\r\n",
    "def extract_beer_list_infos(url):\r\n",
    "    # Collecter les pages de bières à partir du JSON\r\n",
    "    r = requests.get(url).content.decode(\"utf-8\")\r\n",
    "    beer_pages = [\"https://www.beerwulf.com\" + item[\"contentReference\"] for item in json.loads(r)[\"items\"]]\r\n",
    "\r\n",
    "    # Sequential version (slow):\r\n",
    "    beers = []\r\n",
    "    for beer in beer_pages:\r\n",
    "        beers.append(extract_beer_infos(beer))\r\n",
    "\r\n",
    "    # Parallel version (faster):\r\n",
    "    \"\"\"p = Pool(len(beer_pages))\r\n",
    "    beers = p.map(extract_beer_infos, beer_pages)\"\"\"\r\n",
    "\r\n",
    "    return beers\r\n",
    "\r\n",
    "extract_beer_list_infos(URL_BEERLIST_FRANCE)"
   ],
   "outputs": [
    {
     "output_type": "execute_result",
     "data": {
      "text/plain": [
       "[{'name': 'Gallia East IPA', 'note': 80, 'price': 42.99, 'volume': 33},\n",
       " {'name': 'La Lager Sans Gluten de Vézelay',\n",
       "  'note': 60,\n",
       "  'price': 38.99,\n",
       "  'volume': 25},\n",
       " {'name': 'Brasserie De Sutter Brin de Folie',\n",
       "  'note': 70,\n",
       "  'price': 44.99,\n",
       "  'volume': 33},\n",
       " {'name': 'La Cristal IPA du Mont Blanc',\n",
       "  'note': 70,\n",
       "  'price': 44.99,\n",
       "  'volume': 33},\n",
       " {'name': 'Mélusine Bio', 'note': 70, 'price': 38.99, 'volume': 33},\n",
       " {'name': 'La Parisienne Le Titi Parisien',\n",
       "  'note': 70,\n",
       "  'price': 38.99,\n",
       "  'volume': 33},\n",
       " {'name': 'Gallia Session IPA', 'note': 70, 'price': 42.99, 'volume': 33},\n",
       " {'name': 'Ninkasi Brut IPA', 'note': 70, 'price': 44.99, 'volume': 33},\n",
       " {'name': 'Pietra', 'note': 60, 'price': 38.99, 'volume': 33},\n",
       " {'name': 'Desperados', 'note': 60, 'price': 35.99, 'volume': 33},\n",
       " {'name': 'Gallia West IPA', 'note': 70, 'price': 42.99, 'volume': 33}]"
      ]
     },
     "metadata": {},
     "execution_count": 12
    }
   ],
   "metadata": {}
  },
  {
   "cell_type": "code",
   "execution_count": 13,
   "source": [
    "import unittest\r\n",
    "\r\n",
    "class Lesson4Tests(unittest.TestCase):\r\n",
    "    def test_01_get_prices_from_url_page2(self):\r\n",
    "        prices = get_prices_from_url(URL_PAGE2)\r\n",
    "        # We should have found 3 products:\r\n",
    "        self.assertIsInstance(prices, dict)\r\n",
    "        self.assertEqual(len(prices), 3)\r\n",
    "        self.assertIn('Personal', prices)\r\n",
    "        self.assertIn('Small Business', prices)\r\n",
    "        self.assertIn('Enterprise', prices)\r\n",
    "        \r\n",
    "        personal = prices['Personal']\r\n",
    "        self.assertIn('price', personal)\r\n",
    "        self.assertIn('storage', personal)\r\n",
    "        self.assertIn('databases', personal)\r\n",
    "        self.assertEqual(personal['price'], '$5')\r\n",
    "        self.assertEqual(personal['storage'], '1GB')\r\n",
    "        self.assertEqual(personal['databases'], 1)\r\n",
    "        \r\n",
    "    def test_02_get_prices_from_url_page3(self):\r\n",
    "        prices = get_prices_from_url(URL_PAGE3)\r\n",
    "        self.assertIsInstance(prices, dict)\r\n",
    "        self.assertEqual(len(prices), 4)\r\n",
    "        self.assertEqual(\r\n",
    "            prices['Privilege'],\r\n",
    "            {'databases': 100, 'price': '$99', 'storage': '1TB'}\r\n",
    "        )\r\n",
    "    \r\n",
    "    def test_03_extract_beer_list_infos(self):\r\n",
    "        infos = extract_beer_list_infos(URL_BEERLIST_FRANCE)\r\n",
    "        # We should have 11 French beers:\r\n",
    "        self.assertIsInstance(infos, list)\r\n",
    "        self.assertEqual(len(infos), 11)\r\n",
    "        # All of them are 25cl or 33cl:\r\n",
    "        for beer in infos:\r\n",
    "            self.assertIn(beer['volume'], [25, 33])\r\n",
    "\r\n",
    "            \r\n",
    "def run_tests():\r\n",
    "    test_suite = unittest.makeSuite(Lesson4Tests)\r\n",
    "    runner = unittest.TextTestRunner(verbosity=2)\r\n",
    "    runner.run(test_suite)"
   ],
   "outputs": [],
   "metadata": {}
  },
  {
   "cell_type": "code",
   "execution_count": 14,
   "source": [
    "if __name__ == '__main__':\r\n",
    "    run_tests()"
   ],
   "outputs": [
    {
     "output_type": "stream",
     "name": "stderr",
     "text": [
      "test_01_get_prices_from_url_page2 (__main__.Lesson4Tests) ... ok\n",
      "test_02_get_prices_from_url_page3 (__main__.Lesson4Tests) ... ok\n",
      "test_03_extract_beer_list_infos (__main__.Lesson4Tests) ... ok\n",
      "\n",
      "----------------------------------------------------------------------\n",
      "Ran 3 tests in 3.754s\n",
      "\n",
      "OK\n"
     ]
    }
   ],
   "metadata": {}
  },
  {
   "cell_type": "code",
   "execution_count": null,
   "source": [],
   "outputs": [],
   "metadata": {}
  }
 ],
 "metadata": {
  "kernelspec": {
   "name": "python3",
   "display_name": "Python 3.8.8 64-bit ('base': conda)"
  },
  "language_info": {
   "codemirror_mode": {
    "name": "ipython",
    "version": 3
   },
   "file_extension": ".py",
   "mimetype": "text/x-python",
   "name": "python",
   "nbconvert_exporter": "python",
   "pygments_lexer": "ipython3",
   "version": "3.8.8"
  },
  "interpreter": {
   "hash": "d6b1dc52de474ed9407c5637da8eff2160d69f380cceccb94e4d3d90e466dd58"
  }
 },
 "nbformat": 4,
 "nbformat_minor": 4
}